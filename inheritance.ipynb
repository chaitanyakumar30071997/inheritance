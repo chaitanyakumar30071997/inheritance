{
 "cells": [
  {
   "cell_type": "markdown",
   "id": "a3ec30c4-86c6-4430-a42e-6056e2786c66",
   "metadata": {},
   "source": [
    "# (Single) inheritance"
   ]
  },
  {
   "cell_type": "raw",
   "id": "77bee555-2047-4f3e-bf22-217254efbc8d",
   "metadata": {},
   "source": [
    "1.single inheritance is the process of desiving a single class from a single base class\n",
    "2. The concept of inheritance ocquring the properties from onli ane class into another class is knowas a single inheritance\n",
    "\n",
    "# syntax:- \n",
    "  class Baseclass:\n",
    "              ----\n",
    "              code\n",
    "              -----\n",
    "   class Derived class (baseclass):\n",
    "         ------\n",
    "         --------\n",
    "         ----code "
   ]
  },
  {
   "cell_type": "markdown",
   "id": "07c72127-6af9-4d89-97da-a034cfdf2722",
   "metadata": {},
   "source": []
  },
  {
   "cell_type": "code",
   "execution_count": 7,
   "id": "a6fbc950-125d-4414-8e22-415b8697155d",
   "metadata": {},
   "outputs": [
    {
     "name": "stdout",
     "output_type": "stream",
     "text": [
      "voidcarf TECHNOLOGY\n",
      "laxmi \n"
     ]
    }
   ],
   "source": [
    "class office:\n",
    "    def company(self):\n",
    "        print(\"voidcarf TECHNOLOGY\")\n",
    "\n",
    "class Emp(office):\n",
    "    def name(self):\n",
    "        print(\"laxmi \")\n",
    "obj = Emp()\n",
    "obj.company()\n",
    "obj.name()\n"
   ]
  },
  {
   "cell_type": "markdown",
   "id": "2bae22e3-7c96-42c5-939b-ca400109cce9",
   "metadata": {},
   "source": [
    "# Multi-Level Inheritance\n",
    "\n",
    "1. multi-Level inheritance is the process of deriving a class from another dealer class.\n",
    "2. The concapt of inherent the properties and behavior of another class which have inheritance already inheritance the properties and behavior of same other class "
   ]
  },
  {
   "cell_type": "code",
   "execution_count": 23,
   "id": "5df67598-c2fb-42c3-8335-19e24ec5fb8b",
   "metadata": {},
   "outputs": [],
   "source": [
    "class office:\n",
    "    def company(self):\n",
    "        print(\"voidcarf TECHNOLOGY\")\n",
    "        \n",
    "\n",
    "class Emp(office):\n",
    "    def name(self):\n",
    "        print(\"laxmi \")\n",
    "        \n",
    "        \n",
    "class id(Emp):\n",
    "    def emid (self):\n",
    "        print(\"00123\")\n",
    "\n",
    "\n"
   ]
  },
  {
   "cell_type": "code",
   "execution_count": 24,
   "id": "eb39b1dd-7645-4ca3-8107-fb517831a97e",
   "metadata": {},
   "outputs": [],
   "source": [
    "obj = id()"
   ]
  },
  {
   "cell_type": "code",
   "execution_count": 25,
   "id": "dc3f28b2-1238-4e79-a958-39de227b7b3b",
   "metadata": {},
   "outputs": [
    {
     "name": "stdout",
     "output_type": "stream",
     "text": [
      "00123\n"
     ]
    }
   ],
   "source": [
    "obj.emid()"
   ]
  },
  {
   "cell_type": "code",
   "execution_count": 26,
   "id": "ac4e8831-1778-4069-8301-4b90a216e1e9",
   "metadata": {},
   "outputs": [
    {
     "name": "stdout",
     "output_type": "stream",
     "text": [
      "laxmi \n"
     ]
    }
   ],
   "source": [
    "obj.name()"
   ]
  },
  {
   "cell_type": "code",
   "execution_count": 29,
   "id": "7b96b11d-539b-4501-8c01-401918226467",
   "metadata": {},
   "outputs": [
    {
     "name": "stdout",
     "output_type": "stream",
     "text": [
      "voidcarf TECHNOLOGY\n"
     ]
    }
   ],
   "source": [
    "obj.company()"
   ]
  },
  {
   "cell_type": "code",
   "execution_count": null,
   "id": "79249859-a09d-463e-83c3-9ad5fdff81dd",
   "metadata": {},
   "outputs": [],
   "source": []
  }
 ],
 "metadata": {
  "kernelspec": {
   "display_name": "Python 3 (ipykernel)",
   "language": "python",
   "name": "python3"
  },
  "language_info": {
   "codemirror_mode": {
    "name": "ipython",
    "version": 3
   },
   "file_extension": ".py",
   "mimetype": "text/x-python",
   "name": "python",
   "nbconvert_exporter": "python",
   "pygments_lexer": "ipython3",
   "version": "3.12.3"
  }
 },
 "nbformat": 4,
 "nbformat_minor": 5
}
